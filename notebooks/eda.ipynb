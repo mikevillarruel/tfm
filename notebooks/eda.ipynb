{
 "cells": [
  {
   "cell_type": "markdown",
   "metadata": {},
   "source": [
    "# Exploratory Data Analysis (EDA)"
   ]
  },
  {
   "cell_type": "code",
   "execution_count": 1,
   "metadata": {},
   "outputs": [],
   "source": [
    "# Tratamiento de datos\n",
    "import pandas as pd\n",
    "# Gráficas\n",
    "import seaborn as sns\n",
    "import matplotlib.pyplot as plt"
   ]
  },
  {
   "cell_type": "code",
   "execution_count": 2,
   "metadata": {},
   "outputs": [],
   "source": [
    "path = './../datasets/dataset_labeled_v2.csv'\n",
    "dataset = pd.read_csv(path)"
   ]
  },
  {
   "cell_type": "code",
   "execution_count": 3,
   "metadata": {},
   "outputs": [
    {
     "name": "stdout",
     "output_type": "stream",
     "text": [
      "<class 'pandas.core.frame.DataFrame'>\n",
      "RangeIndex: 598 entries, 0 to 597\n",
      "Data columns (total 6 columns):\n",
      " #   Column    Non-Null Count  Dtype \n",
      "---  ------    --------------  ----- \n",
      " 0   id        598 non-null    int64 \n",
      " 1   date      598 non-null    object\n",
      " 2   text      598 non-null    object\n",
      " 3   url       598 non-null    object\n",
      " 4   location  598 non-null    object\n",
      " 5   label     598 non-null    object\n",
      "dtypes: int64(1), object(5)\n",
      "memory usage: 28.2+ KB\n"
     ]
    }
   ],
   "source": [
    "# Imprimimos un resumen de la información acerca del dataset,\n",
    "# se incluye la cantidad registros (instancias), el número de\n",
    "# columnas (atributos), el tipo de dato inferido por pandas,\n",
    "# un conteo de valores no nulos y el uso de memoria.\n",
    "dataset.info()"
   ]
  },
  {
   "cell_type": "code",
   "execution_count": 4,
   "metadata": {},
   "outputs": [
    {
     "data": {
      "text/html": [
       "<div>\n",
       "<style scoped>\n",
       "    .dataframe tbody tr th:only-of-type {\n",
       "        vertical-align: middle;\n",
       "    }\n",
       "\n",
       "    .dataframe tbody tr th {\n",
       "        vertical-align: top;\n",
       "    }\n",
       "\n",
       "    .dataframe thead th {\n",
       "        text-align: right;\n",
       "    }\n",
       "</style>\n",
       "<table border=\"1\" class=\"dataframe\">\n",
       "  <thead>\n",
       "    <tr style=\"text-align: right;\">\n",
       "      <th></th>\n",
       "      <th>id</th>\n",
       "      <th>date</th>\n",
       "      <th>text</th>\n",
       "      <th>url</th>\n",
       "      <th>location</th>\n",
       "      <th>label</th>\n",
       "    </tr>\n",
       "  </thead>\n",
       "  <tbody>\n",
       "    <tr>\n",
       "      <th>0</th>\n",
       "      <td>1476701687070998535</td>\n",
       "      <td>2021-12-30 23:48:12+00:00</td>\n",
       "      <td>#ATENCIÓN ⚠️  Dos presuntos delincuentes fuero...</td>\n",
       "      <td>https://twitter.com/noticiasru593/status/14767...</td>\n",
       "      <td>['Samborondón']</td>\n",
       "      <td>robo</td>\n",
       "    </tr>\n",
       "    <tr>\n",
       "      <th>1</th>\n",
       "      <td>1476682498826452992</td>\n",
       "      <td>2021-12-30 22:31:57+00:00</td>\n",
       "      <td>Y si los hackean @PoliciaEcuador y me terminan...</td>\n",
       "      <td>https://twitter.com/lujacome/status/1476682498...</td>\n",
       "      <td>[]</td>\n",
       "      <td>robo</td>\n",
       "    </tr>\n",
       "    <tr>\n",
       "      <th>2</th>\n",
       "      <td>1476675906903191552</td>\n",
       "      <td>2021-12-30 22:05:46+00:00</td>\n",
       "      <td>@EPattoA @PoliciaEcuador Les encanta quedar as...</td>\n",
       "      <td>https://twitter.com/Rengel_A_G/status/14766759...</td>\n",
       "      <td>[]</td>\n",
       "      <td>robo</td>\n",
       "    </tr>\n",
       "    <tr>\n",
       "      <th>3</th>\n",
       "      <td>1476672423076499456</td>\n",
       "      <td>2021-12-30 21:51:55+00:00</td>\n",
       "      <td>🙌📢 CONSULTA CONECTADOS | El asalto del año fue...</td>\n",
       "      <td>https://twitter.com/conectados_ec/status/14766...</td>\n",
       "      <td>['Santiago']</td>\n",
       "      <td>robo</td>\n",
       "    </tr>\n",
       "    <tr>\n",
       "      <th>4</th>\n",
       "      <td>1476669177104588806</td>\n",
       "      <td>2021-12-30 21:39:01+00:00</td>\n",
       "      <td>@EPattoA @PoliciaEcuador 14 años robando Que q...</td>\n",
       "      <td>https://twitter.com/cesar197449/status/1476669...</td>\n",
       "      <td>[]</td>\n",
       "      <td>robo</td>\n",
       "    </tr>\n",
       "  </tbody>\n",
       "</table>\n",
       "</div>"
      ],
      "text/plain": [
       "                    id                       date  \\\n",
       "0  1476701687070998535  2021-12-30 23:48:12+00:00   \n",
       "1  1476682498826452992  2021-12-30 22:31:57+00:00   \n",
       "2  1476675906903191552  2021-12-30 22:05:46+00:00   \n",
       "3  1476672423076499456  2021-12-30 21:51:55+00:00   \n",
       "4  1476669177104588806  2021-12-30 21:39:01+00:00   \n",
       "\n",
       "                                                text  \\\n",
       "0  #ATENCIÓN ⚠️  Dos presuntos delincuentes fuero...   \n",
       "1  Y si los hackean @PoliciaEcuador y me terminan...   \n",
       "2  @EPattoA @PoliciaEcuador Les encanta quedar as...   \n",
       "3  🙌📢 CONSULTA CONECTADOS | El asalto del año fue...   \n",
       "4  @EPattoA @PoliciaEcuador 14 años robando Que q...   \n",
       "\n",
       "                                                 url         location label  \n",
       "0  https://twitter.com/noticiasru593/status/14767...  ['Samborondón']  robo  \n",
       "1  https://twitter.com/lujacome/status/1476682498...               []  robo  \n",
       "2  https://twitter.com/Rengel_A_G/status/14766759...               []  robo  \n",
       "3  https://twitter.com/conectados_ec/status/14766...     ['Santiago']  robo  \n",
       "4  https://twitter.com/cesar197449/status/1476669...               []  robo  "
      ]
     },
     "execution_count": 4,
     "metadata": {},
     "output_type": "execute_result"
    }
   ],
   "source": [
    "# Imprimimos las 5 primeras filas (instancias) del dataset\n",
    "dataset.head()"
   ]
  },
  {
   "cell_type": "code",
   "execution_count": 5,
   "metadata": {},
   "outputs": [
    {
     "data": {
      "text/html": [
       "<div>\n",
       "<style scoped>\n",
       "    .dataframe tbody tr th:only-of-type {\n",
       "        vertical-align: middle;\n",
       "    }\n",
       "\n",
       "    .dataframe tbody tr th {\n",
       "        vertical-align: top;\n",
       "    }\n",
       "\n",
       "    .dataframe thead th {\n",
       "        text-align: right;\n",
       "    }\n",
       "</style>\n",
       "<table border=\"1\" class=\"dataframe\">\n",
       "  <thead>\n",
       "    <tr style=\"text-align: right;\">\n",
       "      <th></th>\n",
       "      <th>id</th>\n",
       "      <th>date</th>\n",
       "      <th>text</th>\n",
       "      <th>url</th>\n",
       "      <th>location</th>\n",
       "      <th>label</th>\n",
       "    </tr>\n",
       "  </thead>\n",
       "  <tbody>\n",
       "    <tr>\n",
       "      <th>593</th>\n",
       "      <td>1740795028006408471</td>\n",
       "      <td>2023-12-29 18:00:51+00:00</td>\n",
       "      <td>@PoliciaEcuador otro correista menos, gracias</td>\n",
       "      <td>https://twitter.com/Richard26567454/status/174...</td>\n",
       "      <td>[]</td>\n",
       "      <td>no relacionado</td>\n",
       "    </tr>\n",
       "    <tr>\n",
       "      <th>594</th>\n",
       "      <td>1740790793458331698</td>\n",
       "      <td>2023-12-29 17:44:02+00:00</td>\n",
       "      <td>@PoliciaEcuador Así con todos los Sicarios, Se...</td>\n",
       "      <td>https://twitter.com/villacresesja/status/17407...</td>\n",
       "      <td>[]</td>\n",
       "      <td>no relacionado</td>\n",
       "    </tr>\n",
       "    <tr>\n",
       "      <th>595</th>\n",
       "      <td>1740788237424353430</td>\n",
       "      <td>2023-12-29 17:33:52+00:00</td>\n",
       "      <td>@PoliciaEcuador Mis felicitaciones a los miemb...</td>\n",
       "      <td>https://twitter.com/Mis__Notas/status/17407882...</td>\n",
       "      <td>[]</td>\n",
       "      <td>no relacionado</td>\n",
       "    </tr>\n",
       "    <tr>\n",
       "      <th>596</th>\n",
       "      <td>1740787564632846692</td>\n",
       "      <td>2023-12-29 17:31:12+00:00</td>\n",
       "      <td>@PoliciaEcuador Felicitaciones</td>\n",
       "      <td>https://twitter.com/Barden666/status/174078756...</td>\n",
       "      <td>[]</td>\n",
       "      <td>no relacionado</td>\n",
       "    </tr>\n",
       "    <tr>\n",
       "      <th>597</th>\n",
       "      <td>1740781010902806628</td>\n",
       "      <td>2023-12-29 17:05:09+00:00</td>\n",
       "      <td>@PoliciaEcuador Así debe ser siempre... lacras...</td>\n",
       "      <td>https://twitter.com/bombillo37/status/17407810...</td>\n",
       "      <td>[]</td>\n",
       "      <td>no relacionado</td>\n",
       "    </tr>\n",
       "  </tbody>\n",
       "</table>\n",
       "</div>"
      ],
      "text/plain": [
       "                      id                       date  \\\n",
       "593  1740795028006408471  2023-12-29 18:00:51+00:00   \n",
       "594  1740790793458331698  2023-12-29 17:44:02+00:00   \n",
       "595  1740788237424353430  2023-12-29 17:33:52+00:00   \n",
       "596  1740787564632846692  2023-12-29 17:31:12+00:00   \n",
       "597  1740781010902806628  2023-12-29 17:05:09+00:00   \n",
       "\n",
       "                                                  text  \\\n",
       "593      @PoliciaEcuador otro correista menos, gracias   \n",
       "594  @PoliciaEcuador Así con todos los Sicarios, Se...   \n",
       "595  @PoliciaEcuador Mis felicitaciones a los miemb...   \n",
       "596                     @PoliciaEcuador Felicitaciones   \n",
       "597  @PoliciaEcuador Así debe ser siempre... lacras...   \n",
       "\n",
       "                                                   url location  \\\n",
       "593  https://twitter.com/Richard26567454/status/174...       []   \n",
       "594  https://twitter.com/villacresesja/status/17407...       []   \n",
       "595  https://twitter.com/Mis__Notas/status/17407882...       []   \n",
       "596  https://twitter.com/Barden666/status/174078756...       []   \n",
       "597  https://twitter.com/bombillo37/status/17407810...       []   \n",
       "\n",
       "              label  \n",
       "593  no relacionado  \n",
       "594  no relacionado  \n",
       "595  no relacionado  \n",
       "596  no relacionado  \n",
       "597  no relacionado  "
      ]
     },
     "execution_count": 5,
     "metadata": {},
     "output_type": "execute_result"
    }
   ],
   "source": [
    "# Imprimimos las 5 últimas filas (instancias) del dataset\n",
    "dataset.tail()"
   ]
  },
  {
   "cell_type": "code",
   "execution_count": 6,
   "metadata": {},
   "outputs": [],
   "source": [
    "# Mostramos un resumen estadístico de los datos\n",
    "# dataset.describe()"
   ]
  },
  {
   "cell_type": "code",
   "execution_count": 7,
   "metadata": {},
   "outputs": [],
   "source": [
    "# Imprimimos los valores que pueden tomar los atributos\n",
    "# for column in dataset.columns:\n",
    "    # print(f'{column}: ', [*dataset[column].unique()])"
   ]
  },
  {
   "cell_type": "code",
   "execution_count": 8,
   "metadata": {},
   "outputs": [
    {
     "data": {
      "text/html": [
       "<div>\n",
       "<style scoped>\n",
       "    .dataframe tbody tr th:only-of-type {\n",
       "        vertical-align: middle;\n",
       "    }\n",
       "\n",
       "    .dataframe tbody tr th {\n",
       "        vertical-align: top;\n",
       "    }\n",
       "\n",
       "    .dataframe thead th {\n",
       "        text-align: right;\n",
       "    }\n",
       "</style>\n",
       "<table border=\"1\" class=\"dataframe\">\n",
       "  <thead>\n",
       "    <tr style=\"text-align: right;\">\n",
       "      <th></th>\n",
       "      <th>label</th>\n",
       "      <th>frequency</th>\n",
       "    </tr>\n",
       "  </thead>\n",
       "  <tbody>\n",
       "    <tr>\n",
       "      <th>0</th>\n",
       "      <td>asesinato</td>\n",
       "      <td>99</td>\n",
       "    </tr>\n",
       "    <tr>\n",
       "      <th>1</th>\n",
       "      <td>extorsion</td>\n",
       "      <td>94</td>\n",
       "    </tr>\n",
       "    <tr>\n",
       "      <th>2</th>\n",
       "      <td>no relacionado</td>\n",
       "      <td>103</td>\n",
       "    </tr>\n",
       "    <tr>\n",
       "      <th>3</th>\n",
       "      <td>robo</td>\n",
       "      <td>102</td>\n",
       "    </tr>\n",
       "    <tr>\n",
       "      <th>4</th>\n",
       "      <td>secuestro</td>\n",
       "      <td>98</td>\n",
       "    </tr>\n",
       "    <tr>\n",
       "      <th>5</th>\n",
       "      <td>terrorismo</td>\n",
       "      <td>102</td>\n",
       "    </tr>\n",
       "  </tbody>\n",
       "</table>\n",
       "</div>"
      ],
      "text/plain": [
       "            label  frequency\n",
       "0       asesinato         99\n",
       "1       extorsion         94\n",
       "2  no relacionado        103\n",
       "3            robo        102\n",
       "4       secuestro         98\n",
       "5      terrorismo        102"
      ]
     },
     "execution_count": 8,
     "metadata": {},
     "output_type": "execute_result"
    }
   ],
   "source": [
    "# Agrupamos las instancias por clase y hacemos un conteo para determinar\n",
    "# el número de instancias que pertenecen a cada clase\n",
    "dataset_class_frequency = dataset\\\n",
    "                        .groupby(by=['label'], as_index=False)\\\n",
    "                        .count()[['label', 'id']]\\\n",
    "                        .rename(columns={'id': 'frequency'})\n",
    "dataset_class_frequency"
   ]
  },
  {
   "cell_type": "code",
   "execution_count": 9,
   "metadata": {},
   "outputs": [
    {
     "data": {
      "image/png": "[encoded data removed]",
      "text/plain": [
       "<Figure size 640x480 with 1 Axes>"
      ]
     },
     "metadata": {},
     "output_type": "display_data"
    }
   ],
   "source": [
    "# Graficamos un histograma para ver como se distribuyen las instancias\n",
    "# por clase, en este caso se puede decir que el dataset está desbalanceado\n",
    "sns.histplot(dataset.sort_values(by=['label']), y='label')\n",
    "plt.show()"
   ]
  },
  {
   "cell_type": "code",
   "execution_count": null,
   "metadata": {},
   "outputs": [],
   "source": []
  }
 ],
 "metadata": {
  "kernelspec": {
   "display_name": "Python 3 (ipykernel)",
   "language": "python",
   "name": "python3"
  },
  "language_info": {
   "codemirror_mode": {
    "name": "ipython",
    "version": 3
   },
   "file_extension": ".py",
   "mimetype": "text/x-python",
   "name": "python",
   "nbconvert_exporter": "python",
   "pygments_lexer": "ipython3",
   "version": "3.10.11"
  }
 },
 "nbformat": 4,
 "nbformat_minor": 4
}
