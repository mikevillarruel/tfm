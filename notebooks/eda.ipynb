{
 "cells": [
  {
   "cell_type": "markdown",
   "metadata": {},
   "source": [
    "# Exploratory Data Analysis (EDA)"
   ]
  },
  {
   "cell_type": "code",
   "execution_count": 1,
   "metadata": {},
   "outputs": [],
   "source": [
    "# Tratamiento de datos\n",
    "import pandas as pd\n",
    "# Gráficas\n",
    "import seaborn as sns\n",
    "import matplotlib.pyplot as plt"
   ]
  },
  {
   "cell_type": "code",
   "execution_count": 2,
   "metadata": {},
   "outputs": [],
   "source": [
    "path = './../datasets/dataset_labeled.csv'\n",
    "dataset = pd.read_csv(path)"
   ]
  },
  {
   "cell_type": "code",
   "execution_count": 3,
   "metadata": {},
   "outputs": [
    {
     "name": "stdout",
     "output_type": "stream",
     "text": [
      "<class 'pandas.core.frame.DataFrame'>\n",
      "RangeIndex: 354 entries, 0 to 353\n",
      "Data columns (total 5 columns):\n",
      " #   Column  Non-Null Count  Dtype \n",
      "---  ------  --------------  ----- \n",
      " 0   id      354 non-null    int64 \n",
      " 1   date    354 non-null    object\n",
      " 2   text    354 non-null    object\n",
      " 3   url     354 non-null    object\n",
      " 4   label   354 non-null    object\n",
      "dtypes: int64(1), object(4)\n",
      "memory usage: 14.0+ KB\n"
     ]
    }
   ],
   "source": [
    "# Imprimimos un resumen de la información acerca del dataset,\n",
    "# se incluye la cantidad registros (instancias), el número de\n",
    "# columnas (atributos), el tipo de dato inferido por pandas,\n",
    "# un conteo de valores no nulos y el uso de memoria.\n",
    "dataset.info()"
   ]
  },
  {
   "cell_type": "code",
   "execution_count": 4,
   "metadata": {},
   "outputs": [
    {
     "data": {
      "text/html": [
       "<div>\n",
       "<style scoped>\n",
       "    .dataframe tbody tr th:only-of-type {\n",
       "        vertical-align: middle;\n",
       "    }\n",
       "\n",
       "    .dataframe tbody tr th {\n",
       "        vertical-align: top;\n",
       "    }\n",
       "\n",
       "    .dataframe thead th {\n",
       "        text-align: right;\n",
       "    }\n",
       "</style>\n",
       "<table border=\"1\" class=\"dataframe\">\n",
       "  <thead>\n",
       "    <tr style=\"text-align: right;\">\n",
       "      <th></th>\n",
       "      <th>id</th>\n",
       "      <th>date</th>\n",
       "      <th>text</th>\n",
       "      <th>url</th>\n",
       "      <th>label</th>\n",
       "    </tr>\n",
       "  </thead>\n",
       "  <tbody>\n",
       "    <tr>\n",
       "      <th>0</th>\n",
       "      <td>1740192891467923931</td>\n",
       "      <td>2023-12-28 02:08:11+00:00</td>\n",
       "      <td>Nuevamente un robo a un local comercial en Gua...</td>\n",
       "      <td>https://twitter.com/Cdla_Guayacanes/status/174...</td>\n",
       "      <td>robo</td>\n",
       "    </tr>\n",
       "    <tr>\n",
       "      <th>1</th>\n",
       "      <td>1735644895807688886</td>\n",
       "      <td>2023-12-15 12:56:04+00:00</td>\n",
       "      <td>Angelitos robando en Samanes 1 @PoliciaEcuador...</td>\n",
       "      <td>https://twitter.com/mdavidcantos/status/173564...</td>\n",
       "      <td>robo</td>\n",
       "    </tr>\n",
       "    <tr>\n",
       "      <th>2</th>\n",
       "      <td>1741140667835834700</td>\n",
       "      <td>2023-12-30 16:54:18+00:00</td>\n",
       "      <td>Bloque 1b mercado de bastion popular, la gente...</td>\n",
       "      <td>https://twitter.com/persevrocio/status/1741140...</td>\n",
       "      <td>robo</td>\n",
       "    </tr>\n",
       "    <tr>\n",
       "      <th>3</th>\n",
       "      <td>1740609881009479974</td>\n",
       "      <td>2023-12-29 05:45:09+00:00</td>\n",
       "      <td>@teleamazonasec @ecuavisa @USembassyEC @Tiempo...</td>\n",
       "      <td>https://twitter.com/XGNthaly/status/1740609881...</td>\n",
       "      <td>robo</td>\n",
       "    </tr>\n",
       "    <tr>\n",
       "      <th>4</th>\n",
       "      <td>1738607137188667893</td>\n",
       "      <td>2023-12-23 17:06:57+00:00</td>\n",
       "      <td>Moradores de Samanes 7 no aguantan tanta delin...</td>\n",
       "      <td>https://twitter.com/JorgeLo56587146/status/173...</td>\n",
       "      <td>robo</td>\n",
       "    </tr>\n",
       "  </tbody>\n",
       "</table>\n",
       "</div>"
      ],
      "text/plain": [
       "                    id                       date  \\\n",
       "0  1740192891467923931  2023-12-28 02:08:11+00:00   \n",
       "1  1735644895807688886  2023-12-15 12:56:04+00:00   \n",
       "2  1741140667835834700  2023-12-30 16:54:18+00:00   \n",
       "3  1740609881009479974  2023-12-29 05:45:09+00:00   \n",
       "4  1738607137188667893  2023-12-23 17:06:57+00:00   \n",
       "\n",
       "                                                text  \\\n",
       "0  Nuevamente un robo a un local comercial en Gua...   \n",
       "1  Angelitos robando en Samanes 1 @PoliciaEcuador...   \n",
       "2  Bloque 1b mercado de bastion popular, la gente...   \n",
       "3  @teleamazonasec @ecuavisa @USembassyEC @Tiempo...   \n",
       "4  Moradores de Samanes 7 no aguantan tanta delin...   \n",
       "\n",
       "                                                 url label  \n",
       "0  https://twitter.com/Cdla_Guayacanes/status/174...  robo  \n",
       "1  https://twitter.com/mdavidcantos/status/173564...  robo  \n",
       "2  https://twitter.com/persevrocio/status/1741140...  robo  \n",
       "3  https://twitter.com/XGNthaly/status/1740609881...  robo  \n",
       "4  https://twitter.com/JorgeLo56587146/status/173...  robo  "
      ]
     },
     "execution_count": 4,
     "metadata": {},
     "output_type": "execute_result"
    }
   ],
   "source": [
    "# Imprimimos las 5 primeras filas (instancias) del dataset\n",
    "dataset.head()"
   ]
  },
  {
   "cell_type": "code",
   "execution_count": 5,
   "metadata": {},
   "outputs": [
    {
     "data": {
      "text/html": [
       "<div>\n",
       "<style scoped>\n",
       "    .dataframe tbody tr th:only-of-type {\n",
       "        vertical-align: middle;\n",
       "    }\n",
       "\n",
       "    .dataframe tbody tr th {\n",
       "        vertical-align: top;\n",
       "    }\n",
       "\n",
       "    .dataframe thead th {\n",
       "        text-align: right;\n",
       "    }\n",
       "</style>\n",
       "<table border=\"1\" class=\"dataframe\">\n",
       "  <thead>\n",
       "    <tr style=\"text-align: right;\">\n",
       "      <th></th>\n",
       "      <th>id</th>\n",
       "      <th>date</th>\n",
       "      <th>text</th>\n",
       "      <th>url</th>\n",
       "      <th>label</th>\n",
       "    </tr>\n",
       "  </thead>\n",
       "  <tbody>\n",
       "    <tr>\n",
       "      <th>349</th>\n",
       "      <td>1672260748368654336</td>\n",
       "      <td>2023-06-23 15:10:06+00:00</td>\n",
       "      <td>@PaloEcuador @PoliciaEcuador @FFAAECUADOR @Fis...</td>\n",
       "      <td>https://twitter.com/THOMASSTOMER/status/167226...</td>\n",
       "      <td>no relacionado</td>\n",
       "    </tr>\n",
       "    <tr>\n",
       "      <th>350</th>\n",
       "      <td>1658513017724600335</td>\n",
       "      <td>2023-05-16 16:41:31+00:00</td>\n",
       "      <td>@Cocalito_60 Quito caotizado este momento por ...</td>\n",
       "      <td>https://twitter.com/Leomc2003/status/165851301...</td>\n",
       "      <td>no relacionado</td>\n",
       "    </tr>\n",
       "    <tr>\n",
       "      <th>351</th>\n",
       "      <td>1697293651783663687</td>\n",
       "      <td>2023-08-31 17:01:55+00:00</td>\n",
       "      <td>@PoliciaEcuador COCHES BOMBA!! Llamen las cosa...</td>\n",
       "      <td>https://twitter.com/MariaAdrianaT/status/16972...</td>\n",
       "      <td>no relacionado</td>\n",
       "    </tr>\n",
       "    <tr>\n",
       "      <th>352</th>\n",
       "      <td>1689425828927393792</td>\n",
       "      <td>2023-08-09 23:58:00+00:00</td>\n",
       "      <td>Evidentemente atentados a la Función Judicial....</td>\n",
       "      <td>https://twitter.com/Fercho_Bono/status/1689425...</td>\n",
       "      <td>no relacionado</td>\n",
       "    </tr>\n",
       "    <tr>\n",
       "      <th>353</th>\n",
       "      <td>1653430346455695373</td>\n",
       "      <td>2023-05-02 16:04:48+00:00</td>\n",
       "      <td>TENER Presente a Este TERRORISTA SUBVERSIVO,TE...</td>\n",
       "      <td>https://twitter.com/EdilbertoFreddy/status/165...</td>\n",
       "      <td>no relacionado</td>\n",
       "    </tr>\n",
       "  </tbody>\n",
       "</table>\n",
       "</div>"
      ],
      "text/plain": [
       "                      id                       date  \\\n",
       "349  1672260748368654336  2023-06-23 15:10:06+00:00   \n",
       "350  1658513017724600335  2023-05-16 16:41:31+00:00   \n",
       "351  1697293651783663687  2023-08-31 17:01:55+00:00   \n",
       "352  1689425828927393792  2023-08-09 23:58:00+00:00   \n",
       "353  1653430346455695373  2023-05-02 16:04:48+00:00   \n",
       "\n",
       "                                                  text  \\\n",
       "349  @PaloEcuador @PoliciaEcuador @FFAAECUADOR @Fis...   \n",
       "350  @Cocalito_60 Quito caotizado este momento por ...   \n",
       "351  @PoliciaEcuador COCHES BOMBA!! Llamen las cosa...   \n",
       "352  Evidentemente atentados a la Función Judicial....   \n",
       "353  TENER Presente a Este TERRORISTA SUBVERSIVO,TE...   \n",
       "\n",
       "                                                   url           label  \n",
       "349  https://twitter.com/THOMASSTOMER/status/167226...  no relacionado  \n",
       "350  https://twitter.com/Leomc2003/status/165851301...  no relacionado  \n",
       "351  https://twitter.com/MariaAdrianaT/status/16972...  no relacionado  \n",
       "352  https://twitter.com/Fercho_Bono/status/1689425...  no relacionado  \n",
       "353  https://twitter.com/EdilbertoFreddy/status/165...  no relacionado  "
      ]
     },
     "execution_count": 5,
     "metadata": {},
     "output_type": "execute_result"
    }
   ],
   "source": [
    "# Imprimimos las 5 últimas filas (instancias) del dataset\n",
    "dataset.tail()"
   ]
  },
  {
   "cell_type": "code",
   "execution_count": 6,
   "metadata": {},
   "outputs": [],
   "source": [
    "# Mostramos un resumen estadístico de los datos\n",
    "# dataset.describe()"
   ]
  },
  {
   "cell_type": "code",
   "execution_count": 7,
   "metadata": {},
   "outputs": [],
   "source": [
    "# Imprimimos los valores que pueden tomar los atributos\n",
    "# for column in dataset.columns:\n",
    "    # print(f'{column}: ', [*dataset[column].unique()])"
   ]
  },
  {
   "cell_type": "code",
   "execution_count": 13,
   "metadata": {},
   "outputs": [
    {
     "data": {
      "text/html": [
       "<div>\n",
       "<style scoped>\n",
       "    .dataframe tbody tr th:only-of-type {\n",
       "        vertical-align: middle;\n",
       "    }\n",
       "\n",
       "    .dataframe tbody tr th {\n",
       "        vertical-align: top;\n",
       "    }\n",
       "\n",
       "    .dataframe thead th {\n",
       "        text-align: right;\n",
       "    }\n",
       "</style>\n",
       "<table border=\"1\" class=\"dataframe\">\n",
       "  <thead>\n",
       "    <tr style=\"text-align: right;\">\n",
       "      <th></th>\n",
       "      <th>label</th>\n",
       "      <th>frequency</th>\n",
       "    </tr>\n",
       "  </thead>\n",
       "  <tbody>\n",
       "    <tr>\n",
       "      <th>0</th>\n",
       "      <td>asesinato</td>\n",
       "      <td>16</td>\n",
       "    </tr>\n",
       "    <tr>\n",
       "      <th>1</th>\n",
       "      <td>extorsion</td>\n",
       "      <td>14</td>\n",
       "    </tr>\n",
       "    <tr>\n",
       "      <th>2</th>\n",
       "      <td>no relacionado</td>\n",
       "      <td>246</td>\n",
       "    </tr>\n",
       "    <tr>\n",
       "      <th>3</th>\n",
       "      <td>robo</td>\n",
       "      <td>22</td>\n",
       "    </tr>\n",
       "    <tr>\n",
       "      <th>4</th>\n",
       "      <td>secuestro</td>\n",
       "      <td>45</td>\n",
       "    </tr>\n",
       "    <tr>\n",
       "      <th>5</th>\n",
       "      <td>terrorismo</td>\n",
       "      <td>11</td>\n",
       "    </tr>\n",
       "  </tbody>\n",
       "</table>\n",
       "</div>"
      ],
      "text/plain": [
       "            label  frequency\n",
       "0       asesinato         16\n",
       "1       extorsion         14\n",
       "2  no relacionado        246\n",
       "3            robo         22\n",
       "4       secuestro         45\n",
       "5      terrorismo         11"
      ]
     },
     "execution_count": 13,
     "metadata": {},
     "output_type": "execute_result"
    }
   ],
   "source": [
    "# Agrupamos las instancias por clase y hacemos un conteo para determinar\n",
    "# el número de instancias que pertenecen a cada clase\n",
    "dataset_class_frequency = dataset\\\n",
    "                        .groupby(by=['label'], as_index=False)\\\n",
    "                        .count()[['label', 'id']]\\\n",
    "                        .rename(columns={'id': 'frequency'})\n",
    "dataset_class_frequency"
   ]
  },
  {
   "cell_type": "code",
   "execution_count": 14,
   "metadata": {},
   "outputs": [
    {
     "data": {
      "image/png": "[encoded data removed]",
      "text/plain": [
       "<Figure size 640x480 with 1 Axes>"
      ]
     },
     "metadata": {},
     "output_type": "display_data"
    }
   ],
   "source": [
    "# Graficamos un histograma para ver como se distribuyen las instancias\n",
    "# por clase, en este caso se puede decir que el dataset está desbalanceado\n",
    "sns.histplot(dataset.sort_values(by=['label']), y='label')\n",
    "plt.show()"
   ]
  },
  {
   "cell_type": "code",
   "execution_count": null,
   "metadata": {},
   "outputs": [],
   "source": []
  }
 ],
 "metadata": {
  "kernelspec": {
   "display_name": "Python 3 (ipykernel)",
   "language": "python",
   "name": "python3"
  },
  "language_info": {
   "codemirror_mode": {
    "name": "ipython",
    "version": 3
   },
   "file_extension": ".py",
   "mimetype": "text/x-python",
   "name": "python",
   "nbconvert_exporter": "python",
   "pygments_lexer": "ipython3",
   "version": "3.10.11"
  }
 },
 "nbformat": 4,
 "nbformat_minor": 4
}
