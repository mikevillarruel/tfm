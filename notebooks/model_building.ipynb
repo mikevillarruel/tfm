{
 "cells": [
  {
   "cell_type": "code",
   "execution_count": null,
   "metadata": {},
   "outputs": [],
   "source": [
    "# Load libraries\n",
    "\n",
    "# Data Manipulation\n",
    "import pandas as pd\n",
    "# import stanza\n",
    "# stanza.download(\"es\")"
   ]
  },
  {
   "cell_type": "code",
   "execution_count": null,
   "metadata": {},
   "outputs": [],
   "source": [
    "# Load the dataset\n",
    "raw_df = pd.read_csv(\"./../datasets/initial_dataset.csv\")\n",
    "\n",
    "# Load stop words\n",
    "with open(\"stop_words.txt\", \"r\") as f:\n",
    "    stop_words = f.read().splitlines()\n",
    "\n",
    "# stop_words"
   ]
  },
  {
   "cell_type": "code",
   "execution_count": null,
   "metadata": {},
   "outputs": [],
   "source": [
    "raw_df.head(5)"
   ]
  },
  {
   "cell_type": "code",
   "execution_count": null,
   "metadata": {},
   "outputs": [],
   "source": [
    "# Pipeline\n",
    "from sklearn.pipeline import Pipeline\n",
    "# TF-IDF Vectorizer\n",
    "from sklearn.feature_extraction.text import TfidfVectorizer\n",
    "# Decision Tree Classifier\n",
    "from sklearn.tree._classes import DecisionTreeClassifier\n",
    "# Split into train and test sets\n",
    "from sklearn.model_selection import train_test_split\n",
    "# Custom transformers\n",
    "from custom_transformers import Cleaner, StopWordsRemover, Lemmatizer\n",
    "\n",
    "copy = raw_df.copy()\n",
    "\n",
    "X_train, X_test, y_train, y_test = train_test_split(\n",
    "    copy, copy['class'], test_size=0.2, random_state=42)\n",
    "\n",
    "pipeline = Pipeline(steps=[\n",
    "    (\"cleaner\", Cleaner()),\n",
    "    (\"stop_words_remover\", StopWordsRemover(stop_words=stop_words)),\n",
    "    (\"lemmatizer\", Lemmatizer()),\n",
    "    (\"tfidf\", TfidfVectorizer()),\n",
    "    (\"classifier\", DecisionTreeClassifier()),\n",
    "])\n",
    "\n",
    "model = pipeline.fit(X=X_train['tweet'], y=y_train)"
   ]
  },
  {
   "cell_type": "code",
   "execution_count": null,
   "metadata": {},
   "outputs": [],
   "source": [
    "# model.set_params(classifier__max_depth=None)"
   ]
  },
  {
   "cell_type": "code",
   "execution_count": null,
   "metadata": {},
   "outputs": [],
   "source": [
    "print(model.steps[-2][1].get_feature_names_out().shape)\n",
    "print(model.steps[-2][1].get_feature_names_out())\n",
    "prediction = model.predict(X_test['tweet'])\n",
    "X_test['prediction'] = prediction\n",
    "X_test"
   ]
  },
  {
   "cell_type": "code",
   "execution_count": null,
   "metadata": {},
   "outputs": [],
   "source": [
    "from sklearn.metrics import ConfusionMatrixDisplay\n",
    "import matplotlib.pyplot as plt\n",
    "import numpy as np\n",
    "\n",
    "# Evaluation\n",
    "from sklearn.metrics import classification_report\n",
    "from sklearn.metrics import accuracy_score\n",
    "from sklearn.metrics import confusion_matrix\n",
    "\n",
    "print(\"\\n Reporte de Clasificación:\")\n",
    "print(classification_report(y_test, prediction))\n",
    "\n",
    "# Confusion Matrix:\n",
    "classes = copy['class'].unique()\n",
    "cm = confusion_matrix(y_test, prediction, labels=classes)\n",
    "disp = ConfusionMatrixDisplay(confusion_matrix=cm, display_labels=classes)\n",
    "print('Matriz de Confusión:')\n",
    "disp.plot()\n",
    "plt.show()\n",
    "\n",
    "# Calculamos el número de instancias clasificadas correctamente\n",
    "correct = np.sum(np.diag(cm))\n",
    "print('\\nInstancias clasificadas correctamente:\\n\\n', correct)\n",
    "\n",
    "# Calculamos el número de instancias clasificadas incorrectamente\n",
    "incorrect = cm.sum() - correct\n",
    "print('\\nInstancias clasificadas incorrectamente:\\n\\n', incorrect)\n",
    "\n",
    "# Calculamos FP, FN, TP y TN para cada clase operando con la matriz de confusión\n",
    "FP = cm.sum(axis=0) - np.diag(cm)\n",
    "FN = cm.sum(axis=1) - np.diag(cm)\n",
    "TP = np.diag(cm)\n",
    "TN = cm.sum() - (FP + FN + TP)\n",
    "\n",
    "# Calculamos el TP Rate (Recall) para cada clase\n",
    "TPR = TP/(TP + FN)\n",
    "print('\\nTP Rate (Recall) por clase:\\n\\n', TPR)\n",
    "\n",
    "# Calculamos el FP Rate para cada clase\n",
    "FPR = FP/(FP + TN)\n",
    "print('\\nFP Rate por clase:\\n\\n', FPR)\n",
    "\n",
    "# Calculamos la exactitud del modelo\n",
    "accuracy = accuracy_score(y_test, prediction)\n",
    "print('\\nExactitud:\\n\\n', accuracy)"
   ]
  },
  {
   "cell_type": "code",
   "execution_count": null,
   "metadata": {},
   "outputs": [],
   "source": [
    "# Don't truncate the output\n",
    "# pd.set_option(\"display.max_colwidth\", None)\n",
    "# copy"
   ]
  },
  {
   "cell_type": "code",
   "execution_count": null,
   "metadata": {},
   "outputs": [],
   "source": [
    "import pickle\n",
    "\n",
    "# Save the model\n",
    "with open(\"./../models/model.pkl\", \"wb\") as f:  # wb = write binary\n",
    "    pickle.dump(model, f)"
   ]
  },
  {
   "cell_type": "code",
   "execution_count": null,
   "metadata": {},
   "outputs": [],
   "source": [
    "import pickle\n",
    "\n",
    "# Load the model\n",
    "with open(\"./../models/model.pkl\", \"rb\") as f:  # rb = read binary\n",
    "    model_loaded = pickle.load(f)\n",
    "\n",
    "prediction = model_loaded.predict(raw_df['tweet'])\n",
    "raw_df['prediction'] = prediction\n",
    "raw_df"
   ]
  },
  {
   "cell_type": "code",
   "execution_count": null,
   "metadata": {},
   "outputs": [],
   "source": [
    "# data = pd.read_csv(\"./data/dataset.csv\")\n",
    "# model_loaded.predict(data['text'])"
   ]
  },
  {
   "cell_type": "code",
   "execution_count": null,
   "metadata": {},
   "outputs": [],
   "source": []
  }
 ],
 "metadata": {
  "kernelspec": {
   "display_name": "Python 3 (ipykernel)",
   "language": "python",
   "name": "python3"
  },
  "language_info": {
   "codemirror_mode": {
    "name": "ipython",
    "version": 3
   },
   "file_extension": ".py",
   "mimetype": "text/x-python",
   "name": "python",
   "nbconvert_exporter": "python",
   "pygments_lexer": "ipython3",
   "version": "3.10.11"
  }
 },
 "nbformat": 4,
 "nbformat_minor": 4
}
