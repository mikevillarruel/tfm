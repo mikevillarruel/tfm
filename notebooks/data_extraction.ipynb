{
 "cells": [
  {
   "cell_type": "code",
   "execution_count": null,
   "metadata": {},
   "outputs": [],
   "source": [
    "# Environment variables\n",
    "import os\n",
    "\n",
    "import dotenv\n",
    "import pandas as pd\n",
    "from tweety import Twitter, filters"
   ]
  },
  {
   "cell_type": "code",
   "execution_count": null,
   "metadata": {},
   "outputs": [],
   "source": [
    "app = Twitter(\"session\")"
   ]
  },
  {
   "cell_type": "code",
   "execution_count": null,
   "metadata": {},
   "outputs": [],
   "source": [
    "dotenv.load_dotenv()\n",
    "\n",
    "username = os.environ.get('twitter_username')\n",
    "password = os.environ.get('twitter_password')\n",
    "print(username, password)"
   ]
  },
  {
   "cell_type": "code",
   "execution_count": null,
   "metadata": {},
   "outputs": [],
   "source": [
    "app.sign_in(username=username, password=password)"
   ]
  },
  {
   "cell_type": "code",
   "execution_count": null,
   "metadata": {},
   "outputs": [],
   "source": [
    "# Diciembre 2022 mes con mayor cantidad de robos en ese año (cifras más recientes)\n",
    "\n",
    "# query = 'robo OR robando OR robaron OR robarle OR robado OR robada OR hurto OR huraton OR hurtado OR hurtada'\n",
    "# label_text = 'robo'\n",
    "# query = 'matan OR mataron OR asesinan OR asesinaron OR asesinado OR asesinada OR asesinadas OR asesinados OR femicidio OR sicariato OR acribillan OR acribillaron OR acribillado OR acribillada OR acribilladas OR acribillados OR homicidio'\n",
    "# label_text = 'asesinato'\n",
    "# query = 'secuestraron OR secuestro OR secuestrada OR secuestrado OR secuestradas OR secuestrados'\n",
    "# label_text = 'secuestro'\n",
    "# query = 'terrorismo bomba OR explosivo OR bombas OR explosivos OR bombas OR explosivos OR atentados OR atentado OR terrorista OR terroristas'\n",
    "# label_text = 'terrorismo'\n",
    "# query = 'extorsión OR extorsion OR extorsionaron OR extorsionado OR extorsionada OR extorsionadas OR extorsionados OR vacuna OR vacunas'\n",
    "# label_text = 'extorsion'\n",
    "\n",
    "query = ''\n",
    "label_text = 'others'\n",
    "\n",
    "# Get cursor top from file\n",
    "if os.path.exists('./cursor_top.txt'):\n",
    "    with open('./cursor_top.txt', 'r') as file:\n",
    "        cursor_top = file.read()\n",
    "else:\n",
    "    cursor_top = None\n",
    "\n",
    "all_tweets = app.search(keyword=query + ' ' + '@policiaecuador OR @fiscaliaecuador -from:@policiaecuador -from:@fiscaliaecuador lang:es since:2022-01-01 until:2023-12-31',\n",
    "                        # filter_=filters.SearchFilters.Latest(),\n",
    "                        pages=1,  # page = 1 => 20 tweets aprox\n",
    "                        wait_time=5,  # wait_time is in seconds\n",
    "                        # cursor=cursor_top, # pagination cursor of the last tweet gotten\n",
    "                        )"
   ]
  },
  {
   "cell_type": "code",
   "execution_count": null,
   "metadata": {},
   "outputs": [],
   "source": [
    "for tweet in all_tweets:\n",
    "    print(tweet.text)"
   ]
  },
  {
   "cell_type": "code",
   "execution_count": null,
   "metadata": {},
   "outputs": [],
   "source": [
    "import os\n",
    "\n",
    "# from geotext import GeoText\n",
    "\n",
    "date = [tweet.date for tweet in all_tweets]\n",
    "text = [str(tweet.text).replace('\\n', ' ') for tweet in all_tweets]\n",
    "url = [tweet.url for tweet in all_tweets]\n",
    "username = [tweet.author.username for tweet in all_tweets]\n",
    "id = [int(tweet.id) for tweet in all_tweets]\n",
    "# location = [\n",
    "#     GeoText(text=tweet.text).cities for tweet in all_tweets\n",
    "# ]\n",
    "label = [\n",
    "    label_text for _ in all_tweets\n",
    "]\n",
    "\n",
    "df = pd.DataFrame(\n",
    "    data={'id': id, 'date': date, 'text': text, 'url': url, 'label': label},\n",
    ")\n",
    "\n",
    "# save to csv/json\n",
    "\n",
    "path = f\"./../datasets/non-reviewed\"\n",
    "\n",
    "if not os.path.exists(path):\n",
    "    os.makedirs(path)\n",
    "\n",
    "df.to_csv(f'./{path}/tweets - {label_text}.csv', index=False)\n",
    "\n",
    "# save search query\n",
    "with open(f'./{path}/tweets - {label_text}.txt', 'w') as f:\n",
    "    f.write(all_tweets.keyword)\n",
    "\n",
    "# df.to_json(f'./{path}/tweets.json', orient='records', force_ascii=False, date_format='iso')\n",
    "\n",
    "# to display the full text / if n it will display n characters\n",
    "pd.set_option('display.max_colwidth', None)\n",
    "df"
   ]
  },
  {
   "cell_type": "code",
   "execution_count": null,
   "metadata": {},
   "outputs": [],
   "source": [
    "# date = \"2023-12-30 04:29:26+00:00\"\n",
    "# date = pd.to_datetime(date)\n",
    "# date\n",
    "\n",
    "test = pd.read_csv(f'./{path}/tweets - {label_text}.csv')\n",
    "# test.date = test.date.apply(lambda x: pd.to_datetime(x))\n",
    "test.info()"
   ]
  }
 ],
 "metadata": {
  "kernelspec": {
   "display_name": "Python 3 (ipykernel)",
   "language": "python",
   "name": "python3"
  },
  "language_info": {
   "codemirror_mode": {
    "name": "ipython",
    "version": 3
   },
   "file_extension": ".py",
   "mimetype": "text/x-python",
   "name": "python",
   "nbconvert_exporter": "python",
   "pygments_lexer": "ipython3",
   "version": "3.10.11"
  }
 },
 "nbformat": 4,
 "nbformat_minor": 4
}
